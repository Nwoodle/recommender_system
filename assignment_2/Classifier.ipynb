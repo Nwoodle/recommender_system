{
 "nbformat": 4,
 "nbformat_minor": 2,
 "metadata": {
  "language_info": {
   "name": "python",
   "codemirror_mode": {
    "name": "ipython",
    "version": 3
   },
   "version": "3.7.4"
  },
  "orig_nbformat": 2,
  "file_extension": ".py",
  "mimetype": "text/x-python",
  "name": "python",
  "npconvert_exporter": "python",
  "pygments_lexer": "ipython3",
  "version": 3
 },
 "cells": [
  {
   "cell_type": "markdown",
   "execution_count": null,
   "metadata": {},
   "outputs": [],
   "source": [
    "Attempt to apply a classifier into the data."
   ]
  },
  {
   "cell_type": "code",
   "execution_count": 1,
   "metadata": {},
   "outputs": [
    {
     "name": "stdout",
     "output_type": "stream",
     "text": "/Users/nwoodle/Developer/CSE258_recommender_system/assignment_2\n"
    }
   ],
   "source": [
    "import os\n",
    "try:\n",
    "\tos.chdir(os.path.join(os.getcwd(), 'assignment_2'))\n",
    "\tprint(os.getcwd())\n",
    "except:\n",
    "\tpass"
   ]
  },
  {
   "cell_type": "code",
   "execution_count": 2,
   "metadata": {},
   "outputs": [],
   "source": [
    "import numpy as np \n",
    "import pandas as pd \n",
    "import pprint\n",
    "\n",
    "pp = pprint.PrettyPrinter(indent=4)"
   ]
  },
  {
   "cell_type": "code",
   "execution_count": 3,
   "metadata": {},
   "outputs": [
    {
     "name": "stdout",
     "output_type": "stream",
     "text": "Dataset size is 125177.\n"
    }
   ],
   "source": [
    "# Data Preprocessing\n",
    "closed_data = pd.read_csv(\"closed_data.csv\")\n",
    "closed_data = closed_data.loc[closed_data[\"district\"].isin([1,2,3,4,5,6,7,8,9])]\n",
    "print(f\"Dataset size is {len(closed_data)}.\")"
   ]
  },
  {
   "cell_type": "code",
   "execution_count": 4,
   "metadata": {},
   "outputs": [],
   "source": [
    "# Select columns\n",
    "'''\n",
    "Preprocessing:\n",
    "\t- Keep only closed case\n",
    "\t- Keep case with district data\n",
    "\n",
    "Features:\n",
    "\t- Service name: service_name, onehot\n",
    "\t- Total population: total_pop2017\n",
    "\t- White population: white_pop2017\n",
    "\t- African American population: afram_pop2017\n",
    "\t- Hispanic population population: hisp_pop2017\n",
    "\t- Case origion: case_origin, onehot\n",
    "\t- Description sentiment: feature sentiment analysis, homebrewed\n",
    "        - neg, neu, com, pos\n",
    "    - Average income: avg_agi\n",
    "'''\n",
    "column_lst = [\"total_pop2017\", \"white_pop2017\", \"afram_pop2017\", \"hisp_pop2017\",\\\n",
    "              \"avg_agi\", \"neg\", \"neu\", \"com\", \"pos\"]\n",
    "onehot_lst = [\"service_name\", \"case_origin\"]\n",
    "prep_data = closed_data[column_lst]"
   ]
  },
  {
   "cell_type": "code",
   "execution_count": 5,
   "metadata": {},
   "outputs": [],
   "source": [
    "# Onehot Process\n",
    "onehot_data = closed_data[onehot_lst]\n",
    "categorize_data = pd.get_dummies(onehot_data, prefix=onehot_lst)\n",
    "dataset = pd.concat([prep_data, categorize_data], axis=1)"
   ]
  },
  {
   "cell_type": "code",
   "execution_count": 6,
   "metadata": {},
   "outputs": [
    {
     "data": {
      "text/html": "<div>\n<style scoped>\n    .dataframe tbody tr th:only-of-type {\n        vertical-align: middle;\n    }\n\n    .dataframe tbody tr th {\n        vertical-align: top;\n    }\n\n    .dataframe thead th {\n        text-align: right;\n    }\n</style>\n<table border=\"1\" class=\"dataframe\">\n  <thead>\n    <tr style=\"text-align: right;\">\n      <th></th>\n      <th>total_pop2017</th>\n      <th>white_pop2017</th>\n      <th>afram_pop2017</th>\n      <th>hisp_pop2017</th>\n      <th>avg_agi</th>\n      <th>neg</th>\n      <th>neu</th>\n      <th>com</th>\n      <th>pos</th>\n      <th>service_name_--Select Answer--</th>\n      <th>...</th>\n      <th>case_origin_Letter</th>\n      <th>case_origin_Mobile</th>\n      <th>case_origin_Phone</th>\n      <th>case_origin_Referral Notice</th>\n      <th>case_origin_Route Slip</th>\n      <th>case_origin_Self-Generated</th>\n      <th>case_origin_Station 38 Incident Reports</th>\n      <th>case_origin_Walk-In</th>\n      <th>case_origin_Water Utilties Work Order (WAO)</th>\n      <th>case_origin_Web</th>\n    </tr>\n  </thead>\n  <tbody>\n    <tr>\n      <td>0</td>\n      <td>84025</td>\n      <td>62630</td>\n      <td>2972</td>\n      <td>62511</td>\n      <td>43025.30</td>\n      <td>0.000</td>\n      <td>0.000</td>\n      <td>0.0000</td>\n      <td>0.00</td>\n      <td>0</td>\n      <td>...</td>\n      <td>0</td>\n      <td>1</td>\n      <td>0</td>\n      <td>0</td>\n      <td>0</td>\n      <td>0</td>\n      <td>0</td>\n      <td>0</td>\n      <td>0</td>\n      <td>0</td>\n    </tr>\n    <tr>\n      <td>1</td>\n      <td>84025</td>\n      <td>62630</td>\n      <td>2972</td>\n      <td>62511</td>\n      <td>43025.30</td>\n      <td>0.000</td>\n      <td>0.000</td>\n      <td>0.0000</td>\n      <td>0.00</td>\n      <td>0</td>\n      <td>...</td>\n      <td>0</td>\n      <td>1</td>\n      <td>0</td>\n      <td>0</td>\n      <td>0</td>\n      <td>0</td>\n      <td>0</td>\n      <td>0</td>\n      <td>0</td>\n      <td>0</td>\n    </tr>\n    <tr>\n      <td>2</td>\n      <td>84025</td>\n      <td>62630</td>\n      <td>2972</td>\n      <td>62511</td>\n      <td>43025.30</td>\n      <td>0.000</td>\n      <td>1.000</td>\n      <td>0.0000</td>\n      <td>0.00</td>\n      <td>0</td>\n      <td>...</td>\n      <td>0</td>\n      <td>0</td>\n      <td>0</td>\n      <td>0</td>\n      <td>0</td>\n      <td>0</td>\n      <td>0</td>\n      <td>0</td>\n      <td>0</td>\n      <td>1</td>\n    </tr>\n    <tr>\n      <td>3</td>\n      <td>84025</td>\n      <td>62630</td>\n      <td>2972</td>\n      <td>62511</td>\n      <td>43025.30</td>\n      <td>0.000</td>\n      <td>1.000</td>\n      <td>0.0000</td>\n      <td>0.00</td>\n      <td>0</td>\n      <td>...</td>\n      <td>0</td>\n      <td>1</td>\n      <td>0</td>\n      <td>0</td>\n      <td>0</td>\n      <td>0</td>\n      <td>0</td>\n      <td>0</td>\n      <td>0</td>\n      <td>0</td>\n    </tr>\n    <tr>\n      <td>4</td>\n      <td>84025</td>\n      <td>62630</td>\n      <td>2972</td>\n      <td>62511</td>\n      <td>43025.30</td>\n      <td>0.000</td>\n      <td>1.000</td>\n      <td>0.0000</td>\n      <td>0.00</td>\n      <td>0</td>\n      <td>...</td>\n      <td>0</td>\n      <td>0</td>\n      <td>0</td>\n      <td>0</td>\n      <td>0</td>\n      <td>0</td>\n      <td>0</td>\n      <td>0</td>\n      <td>0</td>\n      <td>1</td>\n    </tr>\n    <tr>\n      <td>...</td>\n      <td>...</td>\n      <td>...</td>\n      <td>...</td>\n      <td>...</td>\n      <td>...</td>\n      <td>...</td>\n      <td>...</td>\n      <td>...</td>\n      <td>...</td>\n      <td>...</td>\n      <td>...</td>\n      <td>...</td>\n      <td>...</td>\n      <td>...</td>\n      <td>...</td>\n      <td>...</td>\n      <td>...</td>\n      <td>...</td>\n      <td>...</td>\n      <td>...</td>\n      <td>...</td>\n    </tr>\n    <tr>\n      <td>125172</td>\n      <td>31728</td>\n      <td>26860</td>\n      <td>156</td>\n      <td>30002</td>\n      <td>31187.79</td>\n      <td>0.000</td>\n      <td>1.000</td>\n      <td>0.0000</td>\n      <td>0.00</td>\n      <td>0</td>\n      <td>...</td>\n      <td>0</td>\n      <td>1</td>\n      <td>0</td>\n      <td>0</td>\n      <td>0</td>\n      <td>0</td>\n      <td>0</td>\n      <td>0</td>\n      <td>0</td>\n      <td>0</td>\n    </tr>\n    <tr>\n      <td>125173</td>\n      <td>31728</td>\n      <td>26860</td>\n      <td>156</td>\n      <td>30002</td>\n      <td>31187.79</td>\n      <td>0.000</td>\n      <td>0.000</td>\n      <td>0.0000</td>\n      <td>0.00</td>\n      <td>0</td>\n      <td>...</td>\n      <td>0</td>\n      <td>1</td>\n      <td>0</td>\n      <td>0</td>\n      <td>0</td>\n      <td>0</td>\n      <td>0</td>\n      <td>0</td>\n      <td>0</td>\n      <td>0</td>\n    </tr>\n    <tr>\n      <td>125174</td>\n      <td>31728</td>\n      <td>26860</td>\n      <td>156</td>\n      <td>30002</td>\n      <td>31187.79</td>\n      <td>0.086</td>\n      <td>0.844</td>\n      <td>-0.2732</td>\n      <td>0.07</td>\n      <td>0</td>\n      <td>...</td>\n      <td>0</td>\n      <td>0</td>\n      <td>0</td>\n      <td>0</td>\n      <td>0</td>\n      <td>0</td>\n      <td>0</td>\n      <td>0</td>\n      <td>0</td>\n      <td>1</td>\n    </tr>\n    <tr>\n      <td>125175</td>\n      <td>31728</td>\n      <td>26860</td>\n      <td>156</td>\n      <td>30002</td>\n      <td>31187.79</td>\n      <td>0.000</td>\n      <td>0.000</td>\n      <td>0.0000</td>\n      <td>0.00</td>\n      <td>0</td>\n      <td>...</td>\n      <td>0</td>\n      <td>1</td>\n      <td>0</td>\n      <td>0</td>\n      <td>0</td>\n      <td>0</td>\n      <td>0</td>\n      <td>0</td>\n      <td>0</td>\n      <td>0</td>\n    </tr>\n    <tr>\n      <td>125176</td>\n      <td>31728</td>\n      <td>26860</td>\n      <td>156</td>\n      <td>30002</td>\n      <td>31187.79</td>\n      <td>0.000</td>\n      <td>0.000</td>\n      <td>0.0000</td>\n      <td>0.00</td>\n      <td>0</td>\n      <td>...</td>\n      <td>0</td>\n      <td>1</td>\n      <td>0</td>\n      <td>0</td>\n      <td>0</td>\n      <td>0</td>\n      <td>0</td>\n      <td>0</td>\n      <td>0</td>\n      <td>0</td>\n    </tr>\n  </tbody>\n</table>\n<p>125177 rows × 371 columns</p>\n</div>",
      "text/plain": "        total_pop2017  white_pop2017  afram_pop2017  hisp_pop2017   avg_agi  \\\n0               84025          62630           2972         62511  43025.30   \n1               84025          62630           2972         62511  43025.30   \n2               84025          62630           2972         62511  43025.30   \n3               84025          62630           2972         62511  43025.30   \n4               84025          62630           2972         62511  43025.30   \n...               ...            ...            ...           ...       ...   \n125172          31728          26860            156         30002  31187.79   \n125173          31728          26860            156         30002  31187.79   \n125174          31728          26860            156         30002  31187.79   \n125175          31728          26860            156         30002  31187.79   \n125176          31728          26860            156         30002  31187.79   \n\n          neg    neu     com   pos  service_name_--Select Answer--  ...  \\\n0       0.000  0.000  0.0000  0.00                               0  ...   \n1       0.000  0.000  0.0000  0.00                               0  ...   \n2       0.000  1.000  0.0000  0.00                               0  ...   \n3       0.000  1.000  0.0000  0.00                               0  ...   \n4       0.000  1.000  0.0000  0.00                               0  ...   \n...       ...    ...     ...   ...                             ...  ...   \n125172  0.000  1.000  0.0000  0.00                               0  ...   \n125173  0.000  0.000  0.0000  0.00                               0  ...   \n125174  0.086  0.844 -0.2732  0.07                               0  ...   \n125175  0.000  0.000  0.0000  0.00                               0  ...   \n125176  0.000  0.000  0.0000  0.00                               0  ...   \n\n        case_origin_Letter  case_origin_Mobile  case_origin_Phone  \\\n0                        0                   1                  0   \n1                        0                   1                  0   \n2                        0                   0                  0   \n3                        0                   1                  0   \n4                        0                   0                  0   \n...                    ...                 ...                ...   \n125172                   0                   1                  0   \n125173                   0                   1                  0   \n125174                   0                   0                  0   \n125175                   0                   1                  0   \n125176                   0                   1                  0   \n\n        case_origin_Referral Notice  case_origin_Route Slip  \\\n0                                 0                       0   \n1                                 0                       0   \n2                                 0                       0   \n3                                 0                       0   \n4                                 0                       0   \n...                             ...                     ...   \n125172                            0                       0   \n125173                            0                       0   \n125174                            0                       0   \n125175                            0                       0   \n125176                            0                       0   \n\n        case_origin_Self-Generated  case_origin_Station 38 Incident Reports  \\\n0                                0                                        0   \n1                                0                                        0   \n2                                0                                        0   \n3                                0                                        0   \n4                                0                                        0   \n...                            ...                                      ...   \n125172                           0                                        0   \n125173                           0                                        0   \n125174                           0                                        0   \n125175                           0                                        0   \n125176                           0                                        0   \n\n        case_origin_Walk-In  case_origin_Water Utilties Work Order (WAO)  \\\n0                         0                                            0   \n1                         0                                            0   \n2                         0                                            0   \n3                         0                                            0   \n4                         0                                            0   \n...                     ...                                          ...   \n125172                    0                                            0   \n125173                    0                                            0   \n125174                    0                                            0   \n125175                    0                                            0   \n125176                    0                                            0   \n\n        case_origin_Web  \n0                     0  \n1                     0  \n2                     1  \n3                     0  \n4                     1  \n...                 ...  \n125172                0  \n125173                0  \n125174                1  \n125175                0  \n125176                0  \n\n[125177 rows x 371 columns]"
     },
     "execution_count": 6,
     "metadata": {},
     "output_type": "execute_result"
    }
   ],
   "source": []
  },
  {
   "cell_type": "code",
   "execution_count": null,
   "metadata": {},
   "outputs": [],
   "source": []
  }
 ]
}