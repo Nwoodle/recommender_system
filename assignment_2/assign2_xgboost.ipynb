{
 "cells": [
  {
   "cell_type": "code",
   "execution_count": 1,
   "metadata": {},
   "outputs": [
    {
     "name": "stdout",
     "output_type": "stream",
     "text": [
      "/Users/nwoodle/Developer/CSE258_recommender_system/assignment_2\n"
     ]
    }
   ],
   "source": [
    "# ms-python.python added\n",
    "import os\n",
    "try:\n",
    "\tos.chdir(os.path.join(os.getcwd(), 'assignment_2'))\n",
    "\tprint(os.getcwd())\n",
    "except:\n",
    "\tpass"
   ]
  },
  {
   "cell_type": "markdown",
   "metadata": {},
   "source": [
    "# Assignment 2 "
   ]
  },
  {
   "cell_type": "code",
   "execution_count": 1,
   "metadata": {},
   "outputs": [
    {
     "name": "stderr",
     "output_type": "stream",
     "text": [
      "[nltk_data] Downloading package vader_lexicon to\n",
      "[nltk_data]     /home/lgsest/nltk_data...\n",
      "[nltk_data]   Package vader_lexicon is already up-to-date!\n"
     ]
    }
   ],
   "source": [
    "from preprocessing import *"
   ]
  },
  {
   "cell_type": "code",
   "execution_count": 2,
   "metadata": {},
   "outputs": [],
   "source": [
    "dataset = data_preprocessing(timethresh=2)"
   ]
  },
  {
   "cell_type": "code",
   "execution_count": 3,
   "metadata": {},
   "outputs": [
    {
     "data": {
      "text/html": [
       "<div>\n",
       "<style scoped>\n",
       "    .dataframe tbody tr th:only-of-type {\n",
       "        vertical-align: middle;\n",
       "    }\n",
       "\n",
       "    .dataframe tbody tr th {\n",
       "        vertical-align: top;\n",
       "    }\n",
       "\n",
       "    .dataframe thead th {\n",
       "        text-align: right;\n",
       "    }\n",
       "</style>\n",
       "<table border=\"1\" class=\"dataframe\">\n",
       "  <thead>\n",
       "    <tr style=\"text-align: right;\">\n",
       "      <th></th>\n",
       "      <th>total_pop2017</th>\n",
       "      <th>white_pop2017</th>\n",
       "      <th>afram_pop2017</th>\n",
       "      <th>hisp_pop2017</th>\n",
       "      <th>avg_agi</th>\n",
       "      <th>neg</th>\n",
       "      <th>neu</th>\n",
       "      <th>com</th>\n",
       "      <th>pos</th>\n",
       "      <th>service_name_--Select Answer--</th>\n",
       "      <th>...</th>\n",
       "      <th>case_origin_Mobile</th>\n",
       "      <th>case_origin_Phone</th>\n",
       "      <th>case_origin_Referral Notice</th>\n",
       "      <th>case_origin_Route Slip</th>\n",
       "      <th>case_origin_Self-Generated</th>\n",
       "      <th>case_origin_Station 38 Incident Reports</th>\n",
       "      <th>case_origin_Walk-In</th>\n",
       "      <th>case_origin_Water Utilties Work Order (WAO)</th>\n",
       "      <th>case_origin_Web</th>\n",
       "      <th>logis_label</th>\n",
       "    </tr>\n",
       "  </thead>\n",
       "  <tbody>\n",
       "    <tr>\n",
       "      <td>5</td>\n",
       "      <td>84025</td>\n",
       "      <td>62630</td>\n",
       "      <td>2972</td>\n",
       "      <td>62511</td>\n",
       "      <td>43025.30</td>\n",
       "      <td>0.000</td>\n",
       "      <td>0.000</td>\n",
       "      <td>0.0000</td>\n",
       "      <td>0.00</td>\n",
       "      <td>0</td>\n",
       "      <td>...</td>\n",
       "      <td>1</td>\n",
       "      <td>0</td>\n",
       "      <td>0</td>\n",
       "      <td>0</td>\n",
       "      <td>0</td>\n",
       "      <td>0</td>\n",
       "      <td>0</td>\n",
       "      <td>0</td>\n",
       "      <td>0</td>\n",
       "      <td>0</td>\n",
       "    </tr>\n",
       "    <tr>\n",
       "      <td>7</td>\n",
       "      <td>84025</td>\n",
       "      <td>62630</td>\n",
       "      <td>2972</td>\n",
       "      <td>62511</td>\n",
       "      <td>43025.30</td>\n",
       "      <td>0.000</td>\n",
       "      <td>0.000</td>\n",
       "      <td>0.0000</td>\n",
       "      <td>0.00</td>\n",
       "      <td>0</td>\n",
       "      <td>...</td>\n",
       "      <td>1</td>\n",
       "      <td>0</td>\n",
       "      <td>0</td>\n",
       "      <td>0</td>\n",
       "      <td>0</td>\n",
       "      <td>0</td>\n",
       "      <td>0</td>\n",
       "      <td>0</td>\n",
       "      <td>0</td>\n",
       "      <td>0</td>\n",
       "    </tr>\n",
       "    <tr>\n",
       "      <td>9</td>\n",
       "      <td>84025</td>\n",
       "      <td>62630</td>\n",
       "      <td>2972</td>\n",
       "      <td>62511</td>\n",
       "      <td>43025.30</td>\n",
       "      <td>0.000</td>\n",
       "      <td>1.000</td>\n",
       "      <td>0.0000</td>\n",
       "      <td>0.00</td>\n",
       "      <td>0</td>\n",
       "      <td>...</td>\n",
       "      <td>0</td>\n",
       "      <td>0</td>\n",
       "      <td>0</td>\n",
       "      <td>0</td>\n",
       "      <td>0</td>\n",
       "      <td>0</td>\n",
       "      <td>0</td>\n",
       "      <td>0</td>\n",
       "      <td>1</td>\n",
       "      <td>1</td>\n",
       "    </tr>\n",
       "    <tr>\n",
       "      <td>16</td>\n",
       "      <td>84025</td>\n",
       "      <td>62630</td>\n",
       "      <td>2972</td>\n",
       "      <td>62511</td>\n",
       "      <td>43025.30</td>\n",
       "      <td>0.000</td>\n",
       "      <td>1.000</td>\n",
       "      <td>0.0000</td>\n",
       "      <td>0.00</td>\n",
       "      <td>0</td>\n",
       "      <td>...</td>\n",
       "      <td>1</td>\n",
       "      <td>0</td>\n",
       "      <td>0</td>\n",
       "      <td>0</td>\n",
       "      <td>0</td>\n",
       "      <td>0</td>\n",
       "      <td>0</td>\n",
       "      <td>0</td>\n",
       "      <td>0</td>\n",
       "      <td>1</td>\n",
       "    </tr>\n",
       "    <tr>\n",
       "      <td>21</td>\n",
       "      <td>84025</td>\n",
       "      <td>62630</td>\n",
       "      <td>2972</td>\n",
       "      <td>62511</td>\n",
       "      <td>43025.30</td>\n",
       "      <td>0.000</td>\n",
       "      <td>1.000</td>\n",
       "      <td>0.0000</td>\n",
       "      <td>0.00</td>\n",
       "      <td>0</td>\n",
       "      <td>...</td>\n",
       "      <td>0</td>\n",
       "      <td>0</td>\n",
       "      <td>0</td>\n",
       "      <td>0</td>\n",
       "      <td>0</td>\n",
       "      <td>0</td>\n",
       "      <td>0</td>\n",
       "      <td>0</td>\n",
       "      <td>1</td>\n",
       "      <td>0</td>\n",
       "    </tr>\n",
       "    <tr>\n",
       "      <td>...</td>\n",
       "      <td>...</td>\n",
       "      <td>...</td>\n",
       "      <td>...</td>\n",
       "      <td>...</td>\n",
       "      <td>...</td>\n",
       "      <td>...</td>\n",
       "      <td>...</td>\n",
       "      <td>...</td>\n",
       "      <td>...</td>\n",
       "      <td>...</td>\n",
       "      <td>...</td>\n",
       "      <td>...</td>\n",
       "      <td>...</td>\n",
       "      <td>...</td>\n",
       "      <td>...</td>\n",
       "      <td>...</td>\n",
       "      <td>...</td>\n",
       "      <td>...</td>\n",
       "      <td>...</td>\n",
       "      <td>...</td>\n",
       "      <td>...</td>\n",
       "    </tr>\n",
       "    <tr>\n",
       "      <td>181849</td>\n",
       "      <td>31728</td>\n",
       "      <td>26860</td>\n",
       "      <td>156</td>\n",
       "      <td>30002</td>\n",
       "      <td>31187.79</td>\n",
       "      <td>0.000</td>\n",
       "      <td>1.000</td>\n",
       "      <td>0.0000</td>\n",
       "      <td>0.00</td>\n",
       "      <td>0</td>\n",
       "      <td>...</td>\n",
       "      <td>1</td>\n",
       "      <td>0</td>\n",
       "      <td>0</td>\n",
       "      <td>0</td>\n",
       "      <td>0</td>\n",
       "      <td>0</td>\n",
       "      <td>0</td>\n",
       "      <td>0</td>\n",
       "      <td>0</td>\n",
       "      <td>1</td>\n",
       "    </tr>\n",
       "    <tr>\n",
       "      <td>181850</td>\n",
       "      <td>31728</td>\n",
       "      <td>26860</td>\n",
       "      <td>156</td>\n",
       "      <td>30002</td>\n",
       "      <td>31187.79</td>\n",
       "      <td>0.000</td>\n",
       "      <td>0.000</td>\n",
       "      <td>0.0000</td>\n",
       "      <td>0.00</td>\n",
       "      <td>0</td>\n",
       "      <td>...</td>\n",
       "      <td>1</td>\n",
       "      <td>0</td>\n",
       "      <td>0</td>\n",
       "      <td>0</td>\n",
       "      <td>0</td>\n",
       "      <td>0</td>\n",
       "      <td>0</td>\n",
       "      <td>0</td>\n",
       "      <td>0</td>\n",
       "      <td>1</td>\n",
       "    </tr>\n",
       "    <tr>\n",
       "      <td>181851</td>\n",
       "      <td>31728</td>\n",
       "      <td>26860</td>\n",
       "      <td>156</td>\n",
       "      <td>30002</td>\n",
       "      <td>31187.79</td>\n",
       "      <td>0.086</td>\n",
       "      <td>0.844</td>\n",
       "      <td>-0.2732</td>\n",
       "      <td>0.07</td>\n",
       "      <td>0</td>\n",
       "      <td>...</td>\n",
       "      <td>0</td>\n",
       "      <td>0</td>\n",
       "      <td>0</td>\n",
       "      <td>0</td>\n",
       "      <td>0</td>\n",
       "      <td>0</td>\n",
       "      <td>0</td>\n",
       "      <td>0</td>\n",
       "      <td>1</td>\n",
       "      <td>1</td>\n",
       "    </tr>\n",
       "    <tr>\n",
       "      <td>181853</td>\n",
       "      <td>31728</td>\n",
       "      <td>26860</td>\n",
       "      <td>156</td>\n",
       "      <td>30002</td>\n",
       "      <td>31187.79</td>\n",
       "      <td>0.000</td>\n",
       "      <td>0.000</td>\n",
       "      <td>0.0000</td>\n",
       "      <td>0.00</td>\n",
       "      <td>0</td>\n",
       "      <td>...</td>\n",
       "      <td>1</td>\n",
       "      <td>0</td>\n",
       "      <td>0</td>\n",
       "      <td>0</td>\n",
       "      <td>0</td>\n",
       "      <td>0</td>\n",
       "      <td>0</td>\n",
       "      <td>0</td>\n",
       "      <td>0</td>\n",
       "      <td>1</td>\n",
       "    </tr>\n",
       "    <tr>\n",
       "      <td>181854</td>\n",
       "      <td>31728</td>\n",
       "      <td>26860</td>\n",
       "      <td>156</td>\n",
       "      <td>30002</td>\n",
       "      <td>31187.79</td>\n",
       "      <td>0.000</td>\n",
       "      <td>0.000</td>\n",
       "      <td>0.0000</td>\n",
       "      <td>0.00</td>\n",
       "      <td>0</td>\n",
       "      <td>...</td>\n",
       "      <td>1</td>\n",
       "      <td>0</td>\n",
       "      <td>0</td>\n",
       "      <td>0</td>\n",
       "      <td>0</td>\n",
       "      <td>0</td>\n",
       "      <td>0</td>\n",
       "      <td>0</td>\n",
       "      <td>0</td>\n",
       "      <td>1</td>\n",
       "    </tr>\n",
       "  </tbody>\n",
       "</table>\n",
       "<p>125065 rows × 372 columns</p>\n",
       "</div>"
      ],
      "text/plain": [
       "        total_pop2017  white_pop2017  afram_pop2017  hisp_pop2017   avg_agi  \\\n",
       "5               84025          62630           2972         62511  43025.30   \n",
       "7               84025          62630           2972         62511  43025.30   \n",
       "9               84025          62630           2972         62511  43025.30   \n",
       "16              84025          62630           2972         62511  43025.30   \n",
       "21              84025          62630           2972         62511  43025.30   \n",
       "...               ...            ...            ...           ...       ...   \n",
       "181849          31728          26860            156         30002  31187.79   \n",
       "181850          31728          26860            156         30002  31187.79   \n",
       "181851          31728          26860            156         30002  31187.79   \n",
       "181853          31728          26860            156         30002  31187.79   \n",
       "181854          31728          26860            156         30002  31187.79   \n",
       "\n",
       "          neg    neu     com   pos  service_name_--Select Answer--  ...  \\\n",
       "5       0.000  0.000  0.0000  0.00                               0  ...   \n",
       "7       0.000  0.000  0.0000  0.00                               0  ...   \n",
       "9       0.000  1.000  0.0000  0.00                               0  ...   \n",
       "16      0.000  1.000  0.0000  0.00                               0  ...   \n",
       "21      0.000  1.000  0.0000  0.00                               0  ...   \n",
       "...       ...    ...     ...   ...                             ...  ...   \n",
       "181849  0.000  1.000  0.0000  0.00                               0  ...   \n",
       "181850  0.000  0.000  0.0000  0.00                               0  ...   \n",
       "181851  0.086  0.844 -0.2732  0.07                               0  ...   \n",
       "181853  0.000  0.000  0.0000  0.00                               0  ...   \n",
       "181854  0.000  0.000  0.0000  0.00                               0  ...   \n",
       "\n",
       "        case_origin_Mobile  case_origin_Phone  case_origin_Referral Notice  \\\n",
       "5                        1                  0                            0   \n",
       "7                        1                  0                            0   \n",
       "9                        0                  0                            0   \n",
       "16                       1                  0                            0   \n",
       "21                       0                  0                            0   \n",
       "...                    ...                ...                          ...   \n",
       "181849                   1                  0                            0   \n",
       "181850                   1                  0                            0   \n",
       "181851                   0                  0                            0   \n",
       "181853                   1                  0                            0   \n",
       "181854                   1                  0                            0   \n",
       "\n",
       "        case_origin_Route Slip  case_origin_Self-Generated  \\\n",
       "5                            0                           0   \n",
       "7                            0                           0   \n",
       "9                            0                           0   \n",
       "16                           0                           0   \n",
       "21                           0                           0   \n",
       "...                        ...                         ...   \n",
       "181849                       0                           0   \n",
       "181850                       0                           0   \n",
       "181851                       0                           0   \n",
       "181853                       0                           0   \n",
       "181854                       0                           0   \n",
       "\n",
       "        case_origin_Station 38 Incident Reports  case_origin_Walk-In  \\\n",
       "5                                             0                    0   \n",
       "7                                             0                    0   \n",
       "9                                             0                    0   \n",
       "16                                            0                    0   \n",
       "21                                            0                    0   \n",
       "...                                         ...                  ...   \n",
       "181849                                        0                    0   \n",
       "181850                                        0                    0   \n",
       "181851                                        0                    0   \n",
       "181853                                        0                    0   \n",
       "181854                                        0                    0   \n",
       "\n",
       "        case_origin_Water Utilties Work Order (WAO)  case_origin_Web  \\\n",
       "5                                                 0                0   \n",
       "7                                                 0                0   \n",
       "9                                                 0                1   \n",
       "16                                                0                0   \n",
       "21                                                0                1   \n",
       "...                                             ...              ...   \n",
       "181849                                            0                0   \n",
       "181850                                            0                0   \n",
       "181851                                            0                1   \n",
       "181853                                            0                0   \n",
       "181854                                            0                0   \n",
       "\n",
       "        logis_label  \n",
       "5                 0  \n",
       "7                 0  \n",
       "9                 1  \n",
       "16                1  \n",
       "21                0  \n",
       "...             ...  \n",
       "181849            1  \n",
       "181850            1  \n",
       "181851            1  \n",
       "181853            1  \n",
       "181854            1  \n",
       "\n",
       "[125065 rows x 372 columns]"
      ]
     },
     "execution_count": 3,
     "metadata": {},
     "output_type": "execute_result"
    }
   ],
   "source": [
    "dataset"
   ]
  },
  {
   "cell_type": "code",
   "execution_count": 35,
   "metadata": {},
   "outputs": [],
   "source": [
    "dataset[\"avg_agi\"].replace('', np.nan, inplace=True)\n",
    "dataset.dropna(subset=[\"avg_agi\"], inplace=True)"
   ]
  },
  {
   "cell_type": "code",
   "execution_count": 36,
   "metadata": {},
   "outputs": [],
   "source": [
    "train, test, valid = train_test_validation(dataset)"
   ]
  },
  {
   "cell_type": "code",
   "execution_count": 37,
   "metadata": {},
   "outputs": [],
   "source": [
    "from sklearn import linear_model"
   ]
  },
  {
   "cell_type": "code",
   "execution_count": 38,
   "metadata": {},
   "outputs": [],
   "source": [
    "model = linear_model.LogisticRegression(C = 0.005, class_weight='balanced')"
   ]
  },
  {
   "cell_type": "code",
   "execution_count": 39,
   "metadata": {},
   "outputs": [],
   "source": [
    "train_data, train_label = data_label(train)"
   ]
  },
  {
   "cell_type": "code",
   "execution_count": 40,
   "metadata": {},
   "outputs": [],
   "source": [
    "valid_data, valid_label = data_label(valid)\n",
    "test_data, test_label = data_label(test)"
   ]
  },
  {
   "cell_type": "code",
   "execution_count": 41,
   "metadata": {},
   "outputs": [
    {
     "name": "stderr",
     "output_type": "stream",
     "text": [
      "/Users/nwoodle/opt/anaconda3/lib/python3.7/site-packages/sklearn/linear_model/logistic.py:432: FutureWarning: Default solver will be changed to 'lbfgs' in 0.22. Specify a solver to silence this warning.\n",
      "  FutureWarning)\n",
      "/Users/nwoodle/opt/anaconda3/lib/python3.7/site-packages/sklearn/utils/validation.py:724: DataConversionWarning: A column-vector y was passed when a 1d array was expected. Please change the shape of y to (n_samples, ), for example using ravel().\n",
      "  y = column_or_1d(y, warn=True)\n"
     ]
    },
    {
     "data": {
      "text/plain": [
       "LogisticRegression(C=0.005, class_weight='balanced', dual=False,\n",
       "                   fit_intercept=True, intercept_scaling=1, l1_ratio=None,\n",
       "                   max_iter=100, multi_class='warn', n_jobs=None, penalty='l2',\n",
       "                   random_state=None, solver='warn', tol=0.0001, verbose=0,\n",
       "                   warm_start=False)"
      ]
     },
     "execution_count": 41,
     "metadata": {},
     "output_type": "execute_result"
    }
   ],
   "source": [
    "model.fit(train_data, train_label)"
   ]
  },
  {
   "cell_type": "code",
   "execution_count": 42,
   "metadata": {},
   "outputs": [
    {
     "data": {
      "text/plain": [
       "0.7382228265216348"
      ]
     },
     "execution_count": 42,
     "metadata": {},
     "output_type": "execute_result"
    }
   ],
   "source": [
    "model.score(valid_data, valid_label)"
   ]
  },
  {
   "cell_type": "code",
   "execution_count": 43,
   "metadata": {},
   "outputs": [
    {
     "data": {
      "text/plain": [
       "0.7283634618461047"
      ]
     },
     "execution_count": 43,
     "metadata": {},
     "output_type": "execute_result"
    }
   ],
   "source": [
    "model.score(test_data, test_label)"
   ]
  },
  {
   "cell_type": "code",
   "execution_count": 44,
   "metadata": {},
   "outputs": [
    {
     "data": {
      "text/plain": [
       "0.7359501694678011"
      ]
     },
     "execution_count": 44,
     "metadata": {},
     "output_type": "execute_result"
    }
   ],
   "source": [
    "model.score(train_data, train_label)"
   ]
  },
  {
   "cell_type": "code",
   "execution_count": 45,
   "metadata": {},
   "outputs": [],
   "source": [
    "import xgboost as xgb"
   ]
  },
  {
   "cell_type": "code",
   "execution_count": 46,
   "metadata": {},
   "outputs": [],
   "source": [
    "D_train = xgb.DMatrix(train_data, label=train_label)\n",
    "D_valid = xgb.DMatrix(valid_data, label=valid_label)"
   ]
  },
  {
   "cell_type": "code",
   "execution_count": 53,
   "metadata": {},
   "outputs": [],
   "source": [
    "param = {\n",
    "    'eta': 0.3, \n",
    "    'max_depth': 3,  \n",
    "    'objective': 'multi:softprob',  \n",
    "    'num_class': 2} \n",
    "\n",
    "steps = 50  # The number of training iterations\n",
    "model = xgb.train(param, D_train, steps)"
   ]
  },
  {
   "cell_type": "code",
   "execution_count": 54,
   "metadata": {},
   "outputs": [
    {
     "name": "stdout",
     "output_type": "stream",
     "text": [
      "Precision = 0.792713511067106\n",
      "Recall = 0.7237184205880598\n",
      "Accuracy = 0.7505398704310965\n"
     ]
    }
   ],
   "source": [
    "import numpy as np\n",
    "from sklearn.metrics import precision_score, recall_score, accuracy_score\n",
    "\n",
    "preds = model.predict(D_valid)\n",
    "best_preds = np.asarray([np.argmax(line) for line in preds])\n",
    "\n",
    "print(\"Precision = {}\".format(precision_score(valid_label, best_preds, average='macro')))\n",
    "print(\"Recall = {}\".format(recall_score(valid_label, best_preds, average='macro')))\n",
    "print(\"Accuracy = {}\".format(accuracy_score(valid_label, best_preds)))"
   ]
  },
  {
   "cell_type": "code",
   "execution_count": 55,
   "metadata": {},
   "outputs": [
    {
     "name": "stdout",
     "output_type": "stream",
     "text": [
      "Precision = 0.8035869661104176\n",
      "Recall = 0.7313209185344554\n",
      "Accuracy = 0.7587258420900029\n"
     ]
    }
   ],
   "source": [
    "preds = model.predict(D_train)\n",
    "best_preds = np.asarray([np.argmax(line) for line in preds])\n",
    "\n",
    "print(\"Precision = {}\".format(precision_score(train_label, best_preds, average='macro')))\n",
    "print(\"Recall = {}\".format(recall_score(train_label, best_preds, average='macro')))\n",
    "print(\"Accuracy = {}\".format(accuracy_score(train_label, best_preds)))"
   ]
  },
  {
   "cell_type": "code",
   "execution_count": null,
   "metadata": {},
   "outputs": [],
   "source": []
  }
 ],
 "metadata": {
  "file_extension": ".py",
  "kernelspec": {
   "display_name": "Python 3",
   "language": "python",
   "name": "python3"
  },
  "language_info": {
   "codemirror_mode": {
    "name": "ipython",
    "version": 3
   },
   "file_extension": ".py",
   "mimetype": "text/x-python",
   "name": "python",
   "nbconvert_exporter": "python",
   "pygments_lexer": "ipython3",
   "version": "3.6.8"
  },
  "mimetype": "text/x-python",
  "name": "python",
  "npconvert_exporter": "python",
  "pygments_lexer": "ipython3",
  "version": 3
 },
 "nbformat": 4,
 "nbformat_minor": 2
}
