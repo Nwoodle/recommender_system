{
 "nbformat": 4,
 "nbformat_minor": 2,
 "metadata": {
  "language_info": {
   "name": "python",
   "codemirror_mode": {
    "name": "ipython",
    "version": 3
   }
  },
  "orig_nbformat": 2,
  "file_extension": ".py",
  "mimetype": "text/x-python",
  "name": "python",
  "npconvert_exporter": "python",
  "pygments_lexer": "ipython3",
  "version": 3
 },
 "cells": [
  {
   "cell_type": "code",
   "execution_count": 1,
   "metadata": {},
   "outputs": [
    {
     "name": "stdout",
     "output_type": "stream",
     "text": "/home/renjiezhu/school_workspace/recommender_system/hw3\n"
    }
   ],
   "source": [
    "# ms-python.python added\n",
    "import os\n",
    "try:\n",
    "\tos.chdir(os.path.join(os.getcwd(), 'hw3'))\n",
    "\tprint(os.getcwd())\n",
    "except:\n",
    "\tpass"
   ]
  },
  {
   "cell_type": "markdown",
   "execution_count": null,
   "metadata": {},
   "outputs": [],
   "source": [
    "# Homework 3 - Renjie Zhu - A53266114"
   ]
  },
  {
   "cell_type": "code",
   "execution_count": 2,
   "metadata": {},
   "outputs": [],
   "source": [
    "import random\n",
    "import numpy as np"
   ]
  },
  {
   "cell_type": "code",
   "execution_count": 3,
   "metadata": {},
   "outputs": [],
   "source": [
    "import gzip\n",
    "from collections import defaultdict\n",
    "\n",
    "def readGz(path):\n",
    "  for l in gzip.open(path, 'rt'):\n",
    "    yield eval(l)\n",
    "\n",
    "def readCSV(path):\n",
    "  f = gzip.open(path, 'rt')\n",
    "  f.readline()\n",
    "  for l in f:\n",
    "    yield l.strip().split(',')"
   ]
  },
  {
   "cell_type": "code",
   "execution_count": 4,
   "metadata": {},
   "outputs": [],
   "source": [
    "bookCount = defaultdict(int)\n",
    "book_user = defaultdict(set)\n",
    "bookSet = set()\n",
    "totalRead = 0\n",
    "user_read = defaultdict(set)\n",
    "data = []\n",
    "\n",
    "for user,book,_ in readCSV(\"train_Interactions.csv.gz\"):\n",
    "    bookCount[book] += 1\n",
    "    user_read[user].add(book)\n",
    "    book_user[book].add(user)\n",
    "    bookSet.add(book)\n",
    "    totalRead += 1\n",
    "    data.append((user, book))"
   ]
  },
  {
   "cell_type": "markdown",
   "execution_count": null,
   "metadata": {},
   "outputs": [],
   "source": [
    "## 1.\n",
    "\n"
   ]
  },
  {
   "cell_type": "code",
   "execution_count": 5,
   "metadata": {},
   "outputs": [],
   "source": [
    "training = data[:190000]\n",
    "validation = data[190000:]\n",
    "validation_new = []"
   ]
  },
  {
   "cell_type": "code",
   "execution_count": 6,
   "metadata": {},
   "outputs": [],
   "source": [
    "for user, book in validation:\n",
    "    sample = random.sample(bookSet.difference(user_read[user]), 1)[0]\n",
    "    validation_new.append([user, book, 1])\n",
    "    validation_new.append([user, sample, 0])\n",
    "validation = np.array(validation_new)"
   ]
  },
  {
   "cell_type": "code",
   "execution_count": 7,
   "metadata": {},
   "outputs": [],
   "source": [
    "# baseline model\n",
    "mostPopular = [(bookCount[x], x) for x in bookCount]\n",
    "mostPopular.sort()\n",
    "mostPopular.reverse()\n",
    "\n",
    "popular = set()\n",
    "count = 0\n",
    "for ic, i in mostPopular:\n",
    "    count += ic\n",
    "    popular.add(i)\n",
    "    if count > totalRead * 0.58: break"
   ]
  },
  {
   "cell_type": "code",
   "execution_count": 8,
   "metadata": {},
   "outputs": [],
   "source": [
    "pred = []\n",
    "for _, book, _ in validation:\n",
    "    if book in popular:\n",
    "        pred.append(1)\n",
    "    else:\n",
    "        pred.append(0)\n"
   ]
  },
  {
   "cell_type": "code",
   "execution_count": 9,
   "metadata": {},
   "outputs": [],
   "source": [
    "valid_gt = validation[:,2].astype(int)"
   ]
  },
  {
   "cell_type": "code",
   "execution_count": 10,
   "metadata": {},
   "outputs": [
    {
     "name": "stdout",
     "output_type": "stream",
     "text": "Baseline accuracy: 0.6535.\n"
    }
   ],
   "source": [
    "print(f\"Baseline accuracy: {sum(pred==valid_gt)/len(pred)}.\")"
   ]
  },
  {
   "cell_type": "markdown",
   "execution_count": null,
   "metadata": {},
   "outputs": [],
   "source": [
    "## 2.\n",
    "\n",
    "Better threshold"
   ]
  },
  {
   "cell_type": "code",
   "execution_count": 11,
   "metadata": {},
   "outputs": [
    {
     "name": "stdout",
     "output_type": "stream",
     "text": "Baseline accuracy: 0.6348; threshold: 40 th\nBaseline accuracy: 0.6373; threshold: 41 th\nBaseline accuracy: 0.63965; threshold: 42 th\nBaseline accuracy: 0.64125; threshold: 43 th\nBaseline accuracy: 0.6427; threshold: 44 th\nBaseline accuracy: 0.6436; threshold: 45 th\nBaseline accuracy: 0.64535; threshold: 46 th\nBaseline accuracy: 0.64745; threshold: 47 th\nBaseline accuracy: 0.6496; threshold: 48 th\nBaseline accuracy: 0.6516; threshold: 49 th\nBaseline accuracy: 0.6526; threshold: 50 th\nBaseline accuracy: 0.6526; threshold: 51 th\nBaseline accuracy: 0.65345; threshold: 52 th\nBaseline accuracy: 0.65485; threshold: 53 th\nBaseline accuracy: 0.6542; threshold: 54 th\nBaseline accuracy: 0.65425; threshold: 55 th\nBaseline accuracy: 0.6549; threshold: 56 th\nBaseline accuracy: 0.6541; threshold: 57 th\nBaseline accuracy: 0.6535; threshold: 58 th\nBaseline accuracy: 0.6538; threshold: 59 th\n"
    }
   ],
   "source": [
    "# better threshold\n",
    "percentile = list(range(40, 60, 1))\n",
    "popularSet = []\n",
    "for p in percentile:\n",
    "    popular = set()\n",
    "    count = 0\n",
    "    for ic, i in mostPopular:\n",
    "        count += ic\n",
    "        popular.add(i)\n",
    "        if count > totalRead * (p/100): break\n",
    "    popularSet.append(popular)\n",
    "\n",
    "    pred = []\n",
    "    for _, book, _ in validation:\n",
    "        if book in popular:\n",
    "            pred.append(1)\n",
    "        else:\n",
    "            pred.append(0)\n",
    "    \n",
    "    print(f\"Baseline accuracy: {sum(pred==valid_gt)/len(pred)}; threshold: {p} th\")"
   ]
  },
  {
   "cell_type": "markdown",
   "execution_count": 52,
   "metadata": {},
   "outputs": [
    {
     "name": "stdout",
     "output_type": "stream",
     "text": "Baseline accuracy: 0.5944.\n"
    }
   ],
   "source": [
    "The better threshold is 57th percentage from the above test."
   ]
  },
  {
   "cell_type": "markdown",
   "execution_count": null,
   "metadata": {},
   "outputs": [],
   "source": [
    "## 3.\n",
    "\n",
    "Jaccard similarity\n"
   ]
  },
  {
   "cell_type": "code",
   "execution_count": 12,
   "metadata": {},
   "outputs": [],
   "source": [
    "def Jaccard(s1, s2):\n",
    "    numer = len(s1.intersection(s2))\n",
    "    denom = len(s1.union(s2))\n",
    "    return numer / denom\n",
    "\n",
    "def Max_Jaccard(user, book, book_user, user_read):\n",
    "    similarities = []\n",
    "    b = book_user[book]\n",
    "    for read in user_read[user]:\n",
    "        similarities.append(Jaccard(b, book_user[read]))\n",
    "    \n",
    "    return max(similarities)"
   ]
  },
  {
   "cell_type": "code",
   "execution_count": 13,
   "metadata": {},
   "outputs": [
    {
     "name": "stdout",
     "output_type": "stream",
     "text": "Jaccard accuracy: 1.0; threshold: 0.5 th\n"
    }
   ],
   "source": [
    "p=0.5\n",
    "pred = []\n",
    "for user, book, _ in validation:\n",
    "    sim = Max_Jaccard(user, book, book_user, user_read)\n",
    "    if sim > p:\n",
    "        pred.append(1)\n",
    "    else:\n",
    "        pred.append(0)\n",
    "\n",
    "print(f\"Jaccard accuracy: {sum(pred==valid_gt)/len(pred)}; threshold: {p} th\")"
   ]
  },
  {
   "cell_type": "code",
   "execution_count": null,
   "metadata": {},
   "outputs": [],
   "source": [
    " "
   ]
  }
 ]
}